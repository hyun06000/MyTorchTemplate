{
 "cells": [
  {
   "cell_type": "code",
   "execution_count": 1,
   "source": [
    "import numpy as np\n",
    "import matplotlib.pyplot as plt\n",
    "import torch\n",
    "import torch.nn as nn\n",
    "import torch.optim as optim\n",
    "import torch.nn.functional as F\n",
    "from torchvision import datasets,transforms"
   ],
   "outputs": [],
   "metadata": {}
  },
  {
   "cell_type": "code",
   "execution_count": 2,
   "source": [
    "device = torch.device('cuda:0' if torch.cuda.is_available() else 'cpu')\n",
    "print (\"torch version ::: %s\"%(torch.__version__))\n",
    "print (\"device        ::: %s\"%(device))\n",
    "\n",
    "mnist_train = datasets.MNIST(root='../dataset/',train=True,transform=transforms.ToTensor(),download=True)\n",
    "mnist_test = datasets.MNIST(root='../dataset/',train=False,transform=transforms.ToTensor(),download=True)\n",
    "print (\"Dataset\")\n",
    "\n",
    "BATCH_SIZE = 256\n",
    "tr_loader = torch.utils.data.DataLoader(mnist_train,batch_size=BATCH_SIZE,shuffle=True,num_workers=1)\n",
    "val_loader = torch.utils.data.DataLoader(mnist_test,batch_size=BATCH_SIZE,shuffle=True,num_workers=1)\n",
    "print (\"DataLoader\")"
   ],
   "outputs": [
    {
     "output_type": "stream",
     "name": "stdout",
     "text": [
      "torch version ::: 1.9.0+cu111\n",
      "device        ::: cuda:0\n",
      "Dataset\n",
      "DataLoader\n"
     ]
    },
    {
     "output_type": "stream",
     "name": "stderr",
     "text": [
      "/usr/local/lib/python3.6/dist-packages/torchvision/datasets/mnist.py:498: UserWarning: The given NumPy array is not writeable, and PyTorch does not support non-writeable tensors. This means you can write to the underlying (supposedly non-writeable) NumPy array using the tensor. You may want to copy the array to protect its data or make it writeable before converting it to a tensor. This type of warning will be suppressed for the rest of this program. (Triggered internally at  /pytorch/torch/csrc/utils/tensor_numpy.cpp:180.)\n",
      "  return torch.from_numpy(parsed.astype(m[2], copy=False)).view(*s)\n"
     ]
    }
   ],
   "metadata": {}
  },
  {
   "cell_type": "code",
   "execution_count": 3,
   "source": [
    "class simpleNetwork(nn.Module):\n",
    "    def __init__(self):\n",
    "        super(simpleNetwork,self).__init__()\n",
    "\n",
    "        self.flatten = nn.Flatten()\n",
    "        self.fc = nn.Linear(1*28*28, 10)\n",
    "        self.fc = nn.Linear(1*28*28, 10)\n",
    "        # self.softmax = nn.Softmax(dim=1)\n",
    "            \n",
    "    def forward(self,x):\n",
    "        x = self.flatten(x)\n",
    "        x = self.fc(x)\n",
    "        # x = self.softmax(x)\n",
    "\n",
    "        return x"
   ],
   "outputs": [],
   "metadata": {}
  },
  {
   "cell_type": "code",
   "execution_count": 4,
   "source": [
    "net = simpleNetwork().to(device)\n",
    "print(\"Model\")\n",
    "\n",
    "loss = nn.CrossEntropyLoss()\n",
    "print (\"loss\")\n",
    "opt = optim.Adam(net.parameters(), lr=1e-4)\n",
    "print (\"opt\")"
   ],
   "outputs": [
    {
     "output_type": "stream",
     "name": "stdout",
     "text": [
      "Model\n",
      "loss\n",
      "opt\n"
     ]
    }
   ],
   "metadata": {}
  },
  {
   "cell_type": "code",
   "execution_count": 5,
   "source": [
    "EPOCHS= 10\n",
    "for epoch in range(EPOCHS):\n",
    "    tr_loss_sum, tr_acc_sum = 0, 0\n",
    "    net.train() \n",
    "    for X, y in tr_loader:\n",
    "        X, y = X.to(device), y.to(device)\n",
    "        \n",
    "        y_pred = net(X)\n",
    "        loss_out = loss(y_pred, y)\n",
    "        \n",
    "        opt.zero_grad()\n",
    "        loss_out.backward()\n",
    "        opt.step()\n",
    "        \n",
    "        tr_loss_sum += loss_out\n",
    "        tr_acc_sum += (y_pred.argmax(axis=1)==y).sum().item()/len(y)\n",
    "    tr_loss_avg = tr_loss_sum/len(tr_loader)\n",
    "    tr_acc_avg = tr_acc_sum/len(tr_loader)\n",
    "    print(f\"tr_loss_avg ::: {tr_loss_avg}, tr_acc_avg ::: {tr_acc_avg}\")\n",
    "\n",
    "\n",
    "    val_loss_sum, val_acc_sum = 0, 0\n",
    "    with torch.no_grad():\n",
    "        net.eval()\n",
    "        for X, y in val_loader:\n",
    "            X, y = X.to(device), y.to(device)\n",
    "            \n",
    "            y_pred = net(X)\n",
    "            loss_out = loss(y_pred, y)\n",
    "            \n",
    "            val_loss_sum += loss_out\n",
    "            val_acc_sum += (y_pred.argmax(axis=1)==y).sum().item()/len(y)\n",
    "        val_loss_avg = val_loss_sum/len(val_loader)\n",
    "        val_acc_avg = val_acc_sum/len(val_loader)\n",
    "        print(f\"val_loss_avg ::: {val_loss_avg}, val_acc_avg ::: {val_acc_avg}\")\n",
    "\n",
    "print (\"training finishes\")"
   ],
   "outputs": [
    {
     "output_type": "stream",
     "name": "stdout",
     "text": [
      "tr_loss_avg ::: 1.877700924873352, tr_acc_avg ::: 0.5947030141843972\n",
      "val_loss_avg ::: 1.505921483039856, val_acc_avg ::: 0.78037109375\n",
      "tr_loss_avg ::: 1.3007187843322754, tr_acc_avg ::: 0.7929078014184398\n",
      "val_loss_avg ::: 1.099863886833191, val_acc_avg ::: 0.81787109375\n",
      "tr_loss_avg ::: 0.9998799562454224, tr_acc_avg ::: 0.8204011524822695\n",
      "val_loss_avg ::: 0.8782718777656555, val_acc_avg ::: 0.838671875\n",
      "tr_loss_avg ::: 0.8286318182945251, tr_acc_avg ::: 0.8390015514184398\n",
      "val_loss_avg ::: 0.7399924993515015, val_acc_avg ::: 0.85517578125\n",
      "tr_loss_avg ::: 0.7197902202606201, tr_acc_avg ::: 0.8513574911347518\n",
      "val_loss_avg ::: 0.6505937576293945, val_acc_avg ::: 0.8685546875\n",
      "tr_loss_avg ::: 0.6445744037628174, tr_acc_avg ::: 0.8605718085106383\n",
      "val_loss_avg ::: 0.5969141125679016, val_acc_avg ::: 0.86904296875\n",
      "tr_loss_avg ::: 0.5895538926124573, tr_acc_avg ::: 0.867403590425532\n",
      "val_loss_avg ::: 0.5425435304641724, val_acc_avg ::: 0.8787109375\n",
      "tr_loss_avg ::: 0.5474327206611633, tr_acc_avg ::: 0.8725398936170212\n",
      "val_loss_avg ::: 0.5156822204589844, val_acc_avg ::: 0.87939453125\n",
      "tr_loss_avg ::: 0.5144198536872864, tr_acc_avg ::: 0.8767231826241134\n",
      "val_loss_avg ::: 0.47483834624290466, val_acc_avg ::: 0.8900390625\n",
      "tr_loss_avg ::: 0.4870140850543976, tr_acc_avg ::: 0.8812444592198582\n",
      "val_loss_avg ::: 0.45612213015556335, val_acc_avg ::: 0.88984375\n",
      "training finishes\n"
     ]
    }
   ],
   "metadata": {}
  },
  {
   "cell_type": "code",
   "execution_count": 12,
   "source": [
    "with torch.no_grad():\n",
    "    net.eval() # to evaluation mode \n",
    "    X, y = next(iter(val_loader))\n",
    "    y_pred = net(X.to(device))\n",
    "    y_pred = y_pred.argmax(axis=1)\n",
    "        \n",
    "    plt.figure(figsize=(10,10))\n",
    "    for i,(X,y_p) in enumerate(zip(X,y_pred)):\n",
    "        plt.subplot(5, 5, i+1)\n",
    "        plt.imshow(X.permute(1,2,0), cmap='gray')\n",
    "        plt.axis('off')\n",
    "        plt.title(f\"Prediction:{y_p}\")\n",
    "        if i == 24:\n",
    "            break\n",
    "plt.savefig(\"result.png\")\n",
    "print (\"Done\")"
   ],
   "outputs": [
    {
     "output_type": "stream",
     "name": "stdout",
     "text": [
      "Done\n"
     ]
    },
    {
     "output_type": "display_data",
     "data": {
      "image/png": "[encoded data removed]",
      "text/plain": [
       "<Figure size 720x720 with 25 Axes>"
      ]
     },
     "metadata": {
      "needs_background": "light"
     }
    }
   ],
   "metadata": {}
  },
  {
   "cell_type": "code",
   "execution_count": 7,
   "source": [
    "X[i].shape"
   ],
   "outputs": [
    {
     "output_type": "execute_result",
     "data": {
      "text/plain": [
       "torch.Size([28, 28])"
      ]
     },
     "metadata": {},
     "execution_count": 7
    }
   ],
   "metadata": {}
  },
  {
   "cell_type": "code",
   "execution_count": null,
   "source": [],
   "outputs": [],
   "metadata": {}
  }
 ],
 "metadata": {
  "orig_nbformat": 4,
  "language_info": {
   "name": "python",
   "version": "3.6.9",
   "mimetype": "text/x-python",
   "codemirror_mode": {
    "name": "ipython",
    "version": 3
   },
   "pygments_lexer": "ipython3",
   "nbconvert_exporter": "python",
   "file_extension": ".py"
  },
  "kernelspec": {
   "name": "python3",
   "display_name": "Python 3.6.9 64-bit"
  },
  "interpreter": {
   "hash": "31f2aee4e71d21fbe5cf8b01ff0e069b9275f58929596ceb00d14d90e3e16cd6"
  }
 },
 "nbformat": 4,
 "nbformat_minor": 2
}